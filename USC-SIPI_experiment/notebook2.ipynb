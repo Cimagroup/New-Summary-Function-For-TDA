{
 "cells": [
  {
   "cell_type": "markdown",
   "metadata": {},
   "source": [
    "# Entropy Summary Function Experiment (Notebook 2)"
   ]
  },
  {
   "cell_type": "markdown",
   "metadata": {},
   "source": [
    "This notebook is the second part of the experiment appearing in the paper *On the stability of persistent entropy and new summary functions for TDA*. We will use images from the [misc database](http://sipi.usc.edu/database/database.php?volume=misc) (with exeption of a synthetic image which had a trivial barcode). The whole experiment consist on:\n",
    "* Transform the images to gray scale.\n",
    "* Add gaussian, poisson and salt and pepper noise.\n",
    "* Calculate the persistent diagrams and barcodes of these images using the lower star filtration.\n",
    "* Summarize the diagrams using the Betti curve, the NES function and the persistence silhouettes.\n",
    "* Compare the results of the three curves.\n",
    "\n",
    "In this notebook we  will compare how betti, NES and silhouettes respond to noise and their discriminative power"
   ]
  },
  {
   "cell_type": "markdown",
   "metadata": {},
   "source": [
    "## Robustness to noise"
   ]
  },
  {
   "cell_type": "markdown",
   "metadata": {},
   "source": [
    "Betti, NES and silhouettes were computed in script2.R and saved as data."
   ]
  },
  {
   "cell_type": "code",
   "execution_count": 1,
   "metadata": {},
   "outputs": [],
   "source": [
    "load(\"script2.RData\")"
   ]
  },
  {
   "cell_type": "markdown",
   "metadata": {},
   "source": [
    "We calculate the L1-norm between the curve from the original image and the noisy one. We save it for each type of curve and noise and plot them."
   ]
  },
  {
   "cell_type": "code",
   "execution_count": 2,
   "metadata": {},
   "outputs": [],
   "source": [
    "n <- length(nes_list[[1]])\n",
    "\n",
    "nes_avg <- c(0,0,0)\n",
    "betti_avg <- c(0,0,0)\n",
    "sil_avg <- c(0,0,0)\n",
    "sil2_avg <- c(0,0,0)\n",
    "\n",
    "nes_perturbation <- matrix(0, nrow = n, ncol = length(folders)-1)\n",
    "betti_perturbation <- matrix(0, nrow = n, ncol = length(folders)-1)\n",
    "sil_perturbation <- matrix(0, nrow = n, ncol = length(folders)-1)\n",
    "sil2_perturbation <- matrix(0, nrow = n, ncol = length(folders)-1)\n",
    "\n",
    "for (i in seq(2,length(folders),1)){\n",
    "    for (n in seq(n)){\n",
    "      nes_perturbation[n,i-1] <- NormaL1_new(nes_list[[1]][[n]]- nes_list[[i]][[n]], tseq)\n",
    "      betti_perturbation[n,i-1] <- NormaL1_new(betti_list[[1]][[n]]- betti_list[[i]][[n]], tseq)\n",
    "      sil_perturbation[n,i-1] <- NormaL1_new(sil_list[[1]][[n]]- sil_list[[i]][[n]], tseq)\n",
    "      sil2_perturbation[n,i-1] <- NormaL1_new(sil2_list[[1]][[n]]- sil2_list[[i]][[n]], tseq)\n",
    "    }\n",
    "    nes_avg[i-1] <- mean(nes_perturbation[, i-1])\n",
    "    betti_avg[i-1] <- mean(betti_perturbation[, i-1])\n",
    "    sil_avg[i-1] <- mean(sil_perturbation[, i-1])\n",
    "    sil2_avg[i-1] <- mean(sil2_perturbation[, i-1])\n",
    "}\n",
    "\n"
   ]
  },
  {
   "cell_type": "markdown",
   "metadata": {},
   "source": [
    "As it can be seen, NES is more robust to gaussian and poisson noise than Betti but th most robust are silhouettes. In the case of salt and pepper, Betti is better than the others while NES is better than silhouettes. This last fact is expected since diagrams (with the bottleneck distance) are unstable to salt and pepper noise when calculated with the lower star filtration, but small changes are produces if we are only counting the bars. "
   ]
  },
  {
   "cell_type": "code",
   "execution_count": 3,
   "metadata": {},
   "outputs": [
    {
     "data": {
      "text/html": [
       "<table>\n",
       "<thead><tr><th></th><th scope=col>Betti</th><th scope=col>NES</th><th scope=col>Sil_p1</th><th scope=col>Sil_p2</th></tr></thead>\n",
       "<tbody>\n",
       "\t<tr><th scope=row>Gauss</th><td>0.1988986 </td><td>0.1149179 </td><td>0.0387186 </td><td>0.02449915</td></tr>\n",
       "\t<tr><th scope=row>Poisson</th><td>0.2445259 </td><td>0.1991411 </td><td>0.1553660 </td><td>0.08634215</td></tr>\n",
       "\t<tr><th scope=row>s&amp;p</th><td>0.1397105 </td><td>0.2978631 </td><td>0.4281472 </td><td>0.45781185</td></tr>\n",
       "</tbody>\n",
       "</table>\n"
      ],
      "text/latex": [
       "\\begin{tabular}{r|llll}\n",
       "  & Betti & NES & Sil\\_p1 & Sil\\_p2\\\\\n",
       "\\hline\n",
       "\tGauss & 0.1988986  & 0.1149179  & 0.0387186  & 0.02449915\\\\\n",
       "\tPoisson & 0.2445259  & 0.1991411  & 0.1553660  & 0.08634215\\\\\n",
       "\ts\\&p & 0.1397105  & 0.2978631  & 0.4281472  & 0.45781185\\\\\n",
       "\\end{tabular}\n"
      ],
      "text/markdown": [
       "\n",
       "| <!--/--> | Betti | NES | Sil_p1 | Sil_p2 |\n",
       "|---|---|---|---|---|\n",
       "| Gauss | 0.1988986  | 0.1149179  | 0.0387186  | 0.02449915 |\n",
       "| Poisson | 0.2445259  | 0.1991411  | 0.1553660  | 0.08634215 |\n",
       "| s&p | 0.1397105  | 0.2978631  | 0.4281472  | 0.45781185 |\n",
       "\n"
      ],
      "text/plain": [
       "        Betti     NES       Sil_p1    Sil_p2    \n",
       "Gauss   0.1988986 0.1149179 0.0387186 0.02449915\n",
       "Poisson 0.2445259 0.1991411 0.1553660 0.08634215\n",
       "s&p     0.1397105 0.2978631 0.4281472 0.45781185"
      ]
     },
     "metadata": {},
     "output_type": "display_data"
    }
   ],
   "source": [
    "x <- data.frame(\"Betti\" = betti_avg, \"NES\" = nes_avg, \"Sil_p1\" = sil_avg, \"Sil_p2\" = sil2_avg)\n",
    "row.names(x) <- c(\"Gauss\", \"Poisson\", \"s&p\")\n",
    "x"
   ]
  },
  {
   "cell_type": "markdown",
   "metadata": {},
   "source": [
    "## Discriminative power"
   ]
  },
  {
   "cell_type": "markdown",
   "metadata": {},
   "source": [
    "It is also expected than being less sensitive to noise has a cost. The more robust to noise, the less power to distinguish the images. In the following example we calculate the distance matrix between funtions corresponding to none noisy images."
   ]
  },
  {
   "cell_type": "code",
   "execution_count": 4,
   "metadata": {},
   "outputs": [],
   "source": [
    "listaux <- nes_list[[1]]\n",
    "n <- length(listaux)\n",
    "dmnes <- matrix(0, nrow = n, ncol = n)\n",
    "dvnes <- c()\n",
    "\n",
    "for (i in seq(n)){\n",
    "    for (j in seq(n)){\n",
    "        dmnes[i,j] = NormaL1_new(listaux[[i]] - listaux[[j]], tseq)\n",
    "        if (i < j){\n",
    "            dvnes <- c(dvnes, dmnes[i,j])\n",
    "        }\n",
    "    }\n",
    "}\n",
    "\n",
    "\n",
    "listaux <- betti_list[[1]]\n",
    "n <- length(listaux)\n",
    "dmbetti <- matrix(0, nrow = n, ncol = n)\n",
    "dvbetti <- c()\n",
    "\n",
    "for (i in seq(n)){\n",
    "    for (j in seq(n)){\n",
    "        dmbetti[i,j] = NormaL1_new(listaux[[i]] - listaux[[j]], tseq)\n",
    "        if (i < j){\n",
    "            dvbetti <- c(dvbetti, dmbetti[i,j])\n",
    "        }\n",
    "    }\n",
    "}\n",
    "\n",
    "listaux <- sil_list[[1]]\n",
    "n <- length(listaux)\n",
    "dmsil <- matrix(0, nrow = n, ncol = n)\n",
    "dvsil <- c()\n",
    "\n",
    "for (i in seq(n)){\n",
    "    for (j in seq(n)){\n",
    "        dmsil[i,j] = NormaL1_new(listaux[[i]] - listaux[[j]], tseq)\n",
    "        if (i < j){\n",
    "            dvsil <- c(dvsil, dmsil[i,j])\n",
    "        }\n",
    "    }\n",
    "}\n",
    "\n",
    "listaux <- sil2_list[[1]]\n",
    "n <- length(listaux)\n",
    "dmsil2 <- matrix(0, nrow = n, ncol = n)\n",
    "dvsil2 <- c()\n",
    "\n",
    "for (i in seq(n)){\n",
    "    for (j in seq(n)){\n",
    "        dmsil2[i,j] = NormaL1_new(listaux[[i]] - listaux[[j]], tseq)\n",
    "        if (i < j){\n",
    "            dvsil2 <- c(dvsil2, dmsil2[i,j])\n",
    "        }\n",
    "    }\n",
    "}"
   ]
  },
  {
   "cell_type": "markdown",
   "metadata": {},
   "source": [
    "In this case, Betti is the one with the highest difference, NES the second and silhouettes the less discriminatives."
   ]
  },
  {
   "cell_type": "code",
   "execution_count": 5,
   "metadata": {},
   "outputs": [
    {
     "data": {
      "text/html": [
       "<dl class=dl-horizontal>\n",
       "\t<dt>Betti</dt>\n",
       "\t\t<dd>0.963304858035295</dd>\n",
       "\t<dt>NES</dt>\n",
       "\t\t<dd>0.709505044659418</dd>\n",
       "\t<dt>Sil_p1</dt>\n",
       "\t\t<dd>0.527800051342152</dd>\n",
       "\t<dt>Sil_p2</dt>\n",
       "\t\t<dd>0.373863380578448</dd>\n",
       "</dl>\n"
      ],
      "text/latex": [
       "\\begin{description*}\n",
       "\\item[Betti] 0.963304858035295\n",
       "\\item[NES] 0.709505044659418\n",
       "\\item[Sil\\textbackslash{}\\_p1] 0.527800051342152\n",
       "\\item[Sil\\textbackslash{}\\_p2] 0.373863380578448\n",
       "\\end{description*}\n"
      ],
      "text/markdown": [
       "Betti\n",
       ":   0.963304858035295NES\n",
       ":   0.709505044659418Sil_p1\n",
       ":   0.527800051342152Sil_p2\n",
       ":   0.373863380578448\n",
       "\n"
      ],
      "text/plain": [
       "    Betti       NES    Sil_p1    Sil_p2 \n",
       "0.9633049 0.7095050 0.5278001 0.3738634 "
      ]
     },
     "metadata": {},
     "output_type": "display_data"
    }
   ],
   "source": [
    "results <- data.frame(\"Betti\" = dvbetti, \"NES\" = dvnes, \"Sil_p1\" = dvsil, \"Sil_p2\" = dvsil2)\n",
    "colMeans(results)"
   ]
  },
  {
   "cell_type": "markdown",
   "metadata": {},
   "source": [
    "## Conclusions"
   ]
  },
  {
   "cell_type": "markdown",
   "metadata": {},
   "source": [
    "NES function is more robust to noise than betti curves but less than silhouettes. On the other hand, it keeps less information than betti curves but more than silhouettes. Therefore, it is more balanced than these other curves. Nevertheless, its greatest interest is that it may produce pretty different curves to betti and silhouettes and then, distinguish images which they cannot. In any case, these curves are though to complement each other in, for example, classification tasks."
   ]
  },
  {
   "cell_type": "code",
   "execution_count": null,
   "metadata": {},
   "outputs": [],
   "source": []
  }
 ],
 "metadata": {
  "kernelspec": {
   "display_name": "R",
   "language": "R",
   "name": "ir"
  },
  "language_info": {
   "codemirror_mode": "r",
   "file_extension": ".r",
   "mimetype": "text/x-r-source",
   "name": "R",
   "pygments_lexer": "r",
   "version": "3.6.1"
  }
 },
 "nbformat": 4,
 "nbformat_minor": 2
}
